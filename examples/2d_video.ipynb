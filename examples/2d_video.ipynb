{
 "cells": [
  {
   "cell_type": "code",
   "execution_count": 13,
   "metadata": {},
   "outputs": [],
   "source": [
    "import numpy as np\n",
    "import pandas as pd\n",
    "from tqdm import tqdm\n",
    "from scipy.stats import rayleigh\n",
    "\n",
    "import matplotlib\n",
    "import matplotlib.pyplot as plt\n",
    "from matplotlib import animation\n",
    "from matplotlib.animation import FuncAnimation\n",
    "\n",
    "import sys"
   ]
  },
  {
   "cell_type": "code",
   "execution_count": null,
   "metadata": {},
   "outputs": [],
   "source": [
    "sys.path.append(\"/home/michael/SBDPP_SIM\") # your path to the SBDPP_sim folder\n",
    "import simulation"
   ]
  },
  {
   "cell_type": "code",
   "execution_count": null,
   "metadata": {
    "collapsed": true
   },
   "outputs": [
    {
     "name": "stdout",
     "output_type": "stream",
     "text": [
      "Birth rate: 4000.0\n",
      "Death rate: 1595.1301791971398\n"
     ]
    }
   ],
   "source": [
    "L = 50.0\n",
    "M = 4\n",
    "\n",
    "r_values = np.arange(0, 5.01, 0.01)\n",
    "\n",
    "def density(r):\n",
    "    return (1 / (2 * np.pi)) * np.exp(-0.5 * r**2)\n",
    "\n",
    "radial_density_values = density(r_values)\n",
    "q_values = np.arange(0, 1.0, 0.001)\n",
    "inverse_radial_values = rayleigh.ppf(q_values, scale = 1.0)\n",
    "\n",
    "g2 = simulation.PyGrid2(\n",
    "    M = M,\n",
    "    areaLen = [L, L],\n",
    "    cellCount = [L, L],\n",
    "    isPeriodic = True,\n",
    "    birthRates = [1] * M,\n",
    "    deathRates = [0] * M,\n",
    "    ddMatrix = [0.1, 0.3, 0.3, 0.3,\n",
    "                0.3, 0.1, 0.3, 0.3,\n",
    "                0.3, 0.3, 0.1, 0.3,\n",
    "                0.3, 0.3, 0.3, 0.1],\n",
    "    birthX = [q_values.tolist()] * M,\n",
    "    birthY = [inverse_radial_values.tolist()] * M,\n",
    "    deathX = [[r_values.tolist()]*M] * M,\n",
    "    deathY = [[radial_density_values.tolist()] * M] * M,\n",
    "    cutoffs = [5.0] * M * M,\n",
    "    seed = 42,\n",
    "    rtimeLimit = 7200.0\n",
    ")\n",
    "\n",
    "\n",
    "N = 1000\n",
    "\n",
    "coordinates = []\n",
    "for _ in range(M):\n",
    "    group = [[np.random.uniform(0, L), np.random.uniform(0, L)] for _ in range(N)]\n",
    "    coordinates.append(group)\n",
    "\n",
    "g2.placePopulation(coordinates)\n",
    "\n",
    "print(\"Birth rate:\", g2.total_birth_rate)\n",
    "print(\"Death rate:\", g2.total_death_rate)"
   ]
  },
  {
   "cell_type": "code",
   "execution_count": 16,
   "metadata": {
    "collapsed": false
   },
   "outputs": [
    {
     "name": "stderr",
     "output_type": "stream",
     "text": [
      "Population: 13609, Progress: 100%|██████████| 10/10 [00:10<00:00,  1.02s/it]\n"
     ]
    }
   ],
   "source": [
    "data = list()\n",
    "\n",
    "for t in (pbar := tqdm(range(10))):\n",
    "    for c in range(g2.get_num_cells()):\n",
    "        for n in range(M):\n",
    "            coords = g2.get_cell_coords(c, n)\n",
    "            for i in range(len(coords)):\n",
    "                x,y = coords[i]\n",
    "                data.append([t, x, y, n])\n",
    "    g2.run_for(1)    \n",
    "    pbar.set_description(f\"Population: {g2.total_population}, Progress\")"
   ]
  },
  {
   "cell_type": "code",
   "execution_count": 17,
   "metadata": {
    "collapsed": false
   },
   "outputs": [
    {
     "data": {
      "text/html": [
       "<div>\n",
       "<style scoped>\n",
       "    .dataframe tbody tr th:only-of-type {\n",
       "        vertical-align: middle;\n",
       "    }\n",
       "\n",
       "    .dataframe tbody tr th {\n",
       "        vertical-align: top;\n",
       "    }\n",
       "\n",
       "    .dataframe thead th {\n",
       "        text-align: right;\n",
       "    }\n",
       "</style>\n",
       "<table border=\"1\" class=\"dataframe\">\n",
       "  <thead>\n",
       "    <tr style=\"text-align: right;\">\n",
       "      <th></th>\n",
       "      <th>x</th>\n",
       "      <th>y</th>\n",
       "      <th>s</th>\n",
       "    </tr>\n",
       "    <tr>\n",
       "      <th>time</th>\n",
       "      <th></th>\n",
       "      <th></th>\n",
       "      <th></th>\n",
       "    </tr>\n",
       "  </thead>\n",
       "  <tbody>\n",
       "    <tr>\n",
       "      <th>0</th>\n",
       "      <td>0.530362</td>\n",
       "      <td>0.231104</td>\n",
       "      <td>3</td>\n",
       "    </tr>\n",
       "    <tr>\n",
       "      <th>0</th>\n",
       "      <td>1.718885</td>\n",
       "      <td>0.159825</td>\n",
       "      <td>0</td>\n",
       "    </tr>\n",
       "    <tr>\n",
       "      <th>0</th>\n",
       "      <td>1.212915</td>\n",
       "      <td>0.529530</td>\n",
       "      <td>1</td>\n",
       "    </tr>\n",
       "    <tr>\n",
       "      <th>0</th>\n",
       "      <td>1.275332</td>\n",
       "      <td>0.845118</td>\n",
       "      <td>2</td>\n",
       "    </tr>\n",
       "    <tr>\n",
       "      <th>0</th>\n",
       "      <td>2.128303</td>\n",
       "      <td>0.572695</td>\n",
       "      <td>1</td>\n",
       "    </tr>\n",
       "    <tr>\n",
       "      <th>...</th>\n",
       "      <td>...</td>\n",
       "      <td>...</td>\n",
       "      <td>...</td>\n",
       "    </tr>\n",
       "    <tr>\n",
       "      <th>9</th>\n",
       "      <td>48.149622</td>\n",
       "      <td>49.100466</td>\n",
       "      <td>0</td>\n",
       "    </tr>\n",
       "    <tr>\n",
       "      <th>9</th>\n",
       "      <td>48.277174</td>\n",
       "      <td>49.806216</td>\n",
       "      <td>0</td>\n",
       "    </tr>\n",
       "    <tr>\n",
       "      <th>9</th>\n",
       "      <td>49.760074</td>\n",
       "      <td>49.472692</td>\n",
       "      <td>0</td>\n",
       "    </tr>\n",
       "    <tr>\n",
       "      <th>9</th>\n",
       "      <td>49.076703</td>\n",
       "      <td>49.408168</td>\n",
       "      <td>2</td>\n",
       "    </tr>\n",
       "    <tr>\n",
       "      <th>9</th>\n",
       "      <td>49.628644</td>\n",
       "      <td>49.401007</td>\n",
       "      <td>2</td>\n",
       "    </tr>\n",
       "  </tbody>\n",
       "</table>\n",
       "<p>97846 rows × 3 columns</p>\n",
       "</div>"
      ],
      "text/plain": [
       "              x          y  s\n",
       "time                         \n",
       "0      0.530362   0.231104  3\n",
       "0      1.718885   0.159825  0\n",
       "0      1.212915   0.529530  1\n",
       "0      1.275332   0.845118  2\n",
       "0      2.128303   0.572695  1\n",
       "...         ...        ... ..\n",
       "9     48.149622  49.100466  0\n",
       "9     48.277174  49.806216  0\n",
       "9     49.760074  49.472692  0\n",
       "9     49.076703  49.408168  2\n",
       "9     49.628644  49.401007  2\n",
       "\n",
       "[97846 rows x 3 columns]"
      ]
     },
     "metadata": {},
     "output_type": "display_data"
    }
   ],
   "source": [
    "df = pd.DataFrame(columns = ['time', 'x', 'y', 's'], data = data)\n",
    "display(df.set_index('time'))"
   ]
  },
  {
   "cell_type": "code",
   "execution_count": 18,
   "metadata": {
    "collapsed": false
   },
   "outputs": [],
   "source": [
    "movie_writer = animation.FFMpegWriter(\n",
    "    fps = 2,\n",
    "    codec = 'h264',\n",
    "    extra_args = ['-vcodec', 'libx264']\n",
    ")"
   ]
  },
  {
   "cell_type": "code",
   "execution_count": null,
   "metadata": {
    "collapsed": false
   },
   "outputs": [
    {
     "name": "stdout",
     "output_type": "stream",
     "text": [
      "Animation saved as points_animation.mp4\n"
     ]
    }
   ],
   "source": [
    "matplotlib.rcParams['animation.ffmpeg_path'] = '/usr/bin/ffmpeg' # Set the path to ffmpeg\n",
    "\n",
    "df = df.sort_values('time')\n",
    "output_file = \"points_animation.mp4\"\n",
    "\n",
    "fig, ax = plt.subplots(figsize=(8, 8))\n",
    "\n",
    "ax.set_xlim(0, L)\n",
    "ax.set_ylim(0, L)\n",
    "ax.set_xlabel('x')\n",
    "ax.set_ylabel('y')\n",
    "sc = ax.scatter([], [], c = [], cmap = 'plasma', s = 20, alpha = 0.6)\n",
    "\n",
    "def update(frame):\n",
    "    current_df = df[df['time'] == frame]\n",
    "    sc.set_offsets(current_df[['x', 'y']].values)\n",
    "    sc.set_array(current_df['s'].values)\n",
    "    ax.set_title(f\"Time: {frame}\")\n",
    "    return sc,\n",
    "\n",
    "ani = FuncAnimation(fig, update, frames=df['time'].nunique(), blit = True)\n",
    "\n",
    "ani.save(output_file, writer = movie_writer)\n",
    "print(f\"Animation saved as {output_file}\")\n",
    "plt.close(fig)"
   ]
  }
 ],
 "metadata": {
  "kernelspec": {
   "display_name": "venv",
   "language": "python",
   "name": "python3"
  },
  "language_info": {
   "codemirror_mode": {
    "name": "ipython",
    "version": 3
   },
   "file_extension": ".py",
   "mimetype": "text/x-python",
   "name": "python",
   "nbconvert_exporter": "python",
   "pygments_lexer": "ipython3",
   "version": "3.13.2"
  }
 },
 "nbformat": 4,
 "nbformat_minor": 0
}
